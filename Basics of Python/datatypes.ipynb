{
 "cells": [
  {
   "cell_type": "code",
   "execution_count": 2,
   "metadata": {},
   "outputs": [],
   "source": [
    "#There are 6 main datatypes in Python\n",
    "#1) Numbers\n",
    "#2) Strings\n",
    "#3) List\n",
    "#4) Tuple\n",
    "#5) Set\n",
    "#6) Dictionaries"
   ]
  },
  {
   "cell_type": "code",
   "execution_count": 4,
   "metadata": {},
   "outputs": [],
   "source": [
    "#Numbers can be further classified into-\n",
    "#1) Boolean\n",
    "#2) Integers\n",
    "#3) Floating point numbers (Floats)\n",
    "#4) Complex Numbers"
   ]
  },
  {
   "cell_type": "code",
   "execution_count": 5,
   "metadata": {},
   "outputs": [
    {
     "data": {
      "text/plain": [
       "bool"
      ]
     },
     "execution_count": 5,
     "metadata": {},
     "output_type": "execute_result"
    }
   ],
   "source": [
    "#Boolean Data Type\n",
    "a=True\n",
    "type(a)"
   ]
  },
  {
   "cell_type": "code",
   "execution_count": 6,
   "metadata": {},
   "outputs": [
    {
     "data": {
      "text/plain": [
       "int"
      ]
     },
     "execution_count": 6,
     "metadata": {},
     "output_type": "execute_result"
    }
   ],
   "source": [
    "#Integer Data Type\n",
    "a=678\n",
    "type(a)"
   ]
  },
  {
   "cell_type": "code",
   "execution_count": 7,
   "metadata": {},
   "outputs": [
    {
     "data": {
      "text/plain": [
       "float"
      ]
     },
     "execution_count": 7,
     "metadata": {},
     "output_type": "execute_result"
    }
   ],
   "source": [
    "#Floating Point Numbers (Float)\n",
    "a=56.78\n",
    "type(a)"
   ]
  },
  {
   "cell_type": "code",
   "execution_count": 8,
   "metadata": {},
   "outputs": [
    {
     "data": {
      "text/plain": [
       "complex"
      ]
     },
     "execution_count": 8,
     "metadata": {},
     "output_type": "execute_result"
    }
   ],
   "source": [
    "#Complex Numbers- are of form x+ ij\n",
    "a=67.78+76j\n",
    "type(a)"
   ]
  },
  {
   "cell_type": "code",
   "execution_count": 9,
   "metadata": {},
   "outputs": [
    {
     "data": {
      "text/plain": [
       "str"
      ]
     },
     "execution_count": 9,
     "metadata": {},
     "output_type": "execute_result"
    }
   ],
   "source": [
    "#Strings\n",
    "a=\"Tanmay\"\n",
    "type(a)"
   ]
  },
  {
   "cell_type": "code",
   "execution_count": 1,
   "metadata": {},
   "outputs": [
    {
     "name": "stdout",
     "output_type": "stream",
     "text": [
      "TanmaySrivastav\n",
      "Tanmay Srivastav\n",
      "TANMAY SRIVASTAV\n"
     ]
    }
   ],
   "source": [
    "#String Manipulation\n",
    "x='Tanmay'\n",
    "y='Srivastav'\n",
    "print(x+y)\n",
    "print(x+\" \"+y)\n",
    "print((x+\" \"+y).upper())"
   ]
  },
  {
   "cell_type": "code",
   "execution_count": 2,
   "metadata": {},
   "outputs": [
    {
     "data": {
      "text/plain": [
       "98.63"
      ]
     },
     "execution_count": 2,
     "metadata": {},
     "output_type": "execute_result"
    }
   ],
   "source": [
    "#Lists\n",
    "#It contains an ordered sequence of itmes(seperated by commas)\n",
    "#The items can be of different data types, such as, numbers, strings, etc.\n",
    "#It can be easily and dynamically modified.\n",
    "#It is composed using square bracket[].\n",
    "#An item in the list can be accessed by referring to its index number enclosed within the square bracket.\n",
    "a=[78, 98.63, 'Tanmay']\n",
    "a[1]"
   ]
  },
  {
   "cell_type": "code",
   "execution_count": 3,
   "metadata": {},
   "outputs": [
    {
     "data": {
      "text/plain": [
       "'Srivastav'"
      ]
     },
     "execution_count": 3,
     "metadata": {},
     "output_type": "execute_result"
    }
   ],
   "source": [
    "a[2]='Srivastav'\n",
    "a[2]"
   ]
  },
  {
   "cell_type": "code",
   "execution_count": 5,
   "metadata": {},
   "outputs": [
    {
     "data": {
      "text/plain": [
       "'Srivastav'"
      ]
     },
     "execution_count": 5,
     "metadata": {},
     "output_type": "execute_result"
    }
   ],
   "source": [
    "#Tuple\n",
    "#Just like a list, a tuple contains an ordered sequence of items(seperated by commas), the only difference is that it cannot be modified.\n",
    "#It is used to protect the data and is usually faster than a list.\n",
    "#It is defined using parentheses().\n",
    "a=(78,93.89, 'Tanmay', 'Srivastav')\n",
    "a[3]"
   ]
  },
  {
   "cell_type": "code",
   "execution_count": 6,
   "metadata": {},
   "outputs": [
    {
     "ename": "TypeError",
     "evalue": "'tuple' object does not support item assignment",
     "output_type": "error",
     "traceback": [
      "\u001b[1;31m---------------------------------------------------------------------------\u001b[0m",
      "\u001b[1;31mTypeError\u001b[0m                                 Traceback (most recent call last)",
      "\u001b[1;32mc:\\Projects\\Machine Learning\\Basics of Python\\datatypes.ipynb Cell 4'\u001b[0m in \u001b[0;36m<module>\u001b[1;34m\u001b[0m\n\u001b[1;32m----> <a href='vscode-notebook-cell:/c%3A/Projects/Machine%20Learning/Basics%20of%20Python/datatypes.ipynb#ch0000003?line=0'>1</a>\u001b[0m a[\u001b[39m3\u001b[39m]\u001b[39m=\u001b[39m\u001b[39m'\u001b[39m\u001b[39mSrivastava\u001b[39m\u001b[39m'\u001b[39m\n",
      "\u001b[1;31mTypeError\u001b[0m: 'tuple' object does not support item assignment"
     ]
    }
   ],
   "source": [
    "a[3]='Srivastava'"
   ]
  },
  {
   "cell_type": "code",
   "execution_count": 7,
   "metadata": {},
   "outputs": [
    {
     "data": {
      "text/plain": [
       "{2, 3, 5, 7, 8, 9}"
      ]
     },
     "execution_count": 7,
     "metadata": {},
     "output_type": "execute_result"
    }
   ],
   "source": [
    "#Set\n",
    "#It is an unordered collection of unique items.\n",
    "#It is composed using curly braces{} and items are comma separated.\n",
    "#The items cannot be fetched using index numbers.\n",
    "b={2,3,7,5,3,8,9,2,8}\n",
    "b"
   ]
  },
  {
   "cell_type": "code",
   "execution_count": 8,
   "metadata": {},
   "outputs": [
    {
     "ename": "TypeError",
     "evalue": "'set' object is not subscriptable",
     "output_type": "error",
     "traceback": [
      "\u001b[1;31m---------------------------------------------------------------------------\u001b[0m",
      "\u001b[1;31mTypeError\u001b[0m                                 Traceback (most recent call last)",
      "\u001b[1;32mc:\\Projects\\Machine Learning\\Basics of Python\\datatypes.ipynb Cell 6'\u001b[0m in \u001b[0;36m<module>\u001b[1;34m\u001b[0m\n\u001b[1;32m----> <a href='vscode-notebook-cell:/c%3A/Projects/Machine%20Learning/Basics%20of%20Python/datatypes.ipynb#ch0000005?line=0'>1</a>\u001b[0m b[\u001b[39m2\u001b[39;49m]\n",
      "\u001b[1;31mTypeError\u001b[0m: 'set' object is not subscriptable"
     ]
    }
   ],
   "source": [
    "b[2]"
   ]
  },
  {
   "cell_type": "code",
   "execution_count": 11,
   "metadata": {},
   "outputs": [
    {
     "name": "stdout",
     "output_type": "stream",
     "text": [
      "Disha\n",
      "Diksha\n"
     ]
    }
   ],
   "source": [
    "#Dictionary\n",
    "#It is an unordered collection, containing pairs of key and value.\n",
    "#The key must be unique and can be of any format(numeric or string), and the value can be of any data type and can repeat.\n",
    "#The key acts as an index for the pair and thus the values are retrieved using the key.\n",
    "#A dictionary is composed using braces{}.\n",
    "#Generally, a dictionary is used when there is huge data.\n",
    "b={2:'Tanmay',4:'Disha',3:99,5:509.67}\n",
    "print(b[4])\n",
    "b[4]='Diksha'\n",
    "print(b[4])"
   ]
  }
 ],
 "metadata": {
  "kernelspec": {
   "display_name": "Python 3.8.3 64-bit",
   "language": "python",
   "name": "python3"
  },
  "language_info": {
   "codemirror_mode": {
    "name": "ipython",
    "version": 3
   },
   "file_extension": ".py",
   "mimetype": "text/x-python",
   "name": "python",
   "nbconvert_exporter": "python",
   "pygments_lexer": "ipython3",
   "version": "3.8.3"
  },
  "orig_nbformat": 4,
  "vscode": {
   "interpreter": {
    "hash": "007769224854e3e367ebf561a783665783c582a9f8a5f88c9c79f92650b86aef"
   }
  }
 },
 "nbformat": 4,
 "nbformat_minor": 2
}
